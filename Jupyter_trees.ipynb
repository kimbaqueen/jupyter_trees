{
 "cells": [
  {
   "cell_type": "code",
   "execution_count": 1,
   "id": "56b4f2e0",
   "metadata": {},
   "outputs": [
    {
     "name": "stdout",
     "output_type": "stream",
     "text": [
      "Collecting package metadata (current_repodata.json): done\n",
      "Solving environment: done\n",
      "\n",
      "# All requested packages already installed.\n",
      "\n",
      "Retrieving notices: ...working... done\n",
      "\n",
      "Note: you may need to restart the kernel to use updated packages.\n"
     ]
    }
   ],
   "source": [
    "conda install pandas"
   ]
  },
  {
   "cell_type": "code",
   "execution_count": 2,
   "id": "6cb532b4",
   "metadata": {},
   "outputs": [
    {
     "name": "stdout",
     "output_type": "stream",
     "text": [
      "Collecting package metadata (current_repodata.json): done\n",
      "Solving environment: done\n",
      "\n",
      "# All requested packages already installed.\n",
      "\n",
      "Retrieving notices: ...working... done\n",
      "\n",
      "Note: you may need to restart the kernel to use updated packages.\n"
     ]
    }
   ],
   "source": [
    "conda update -n base -c defaults conda"
   ]
  },
  {
   "cell_type": "code",
   "execution_count": 3,
   "id": "2f9af45a",
   "metadata": {},
   "outputs": [],
   "source": [
    "import pandas as pd"
   ]
  },
  {
   "cell_type": "code",
   "execution_count": 4,
   "id": "8393144c",
   "metadata": {},
   "outputs": [],
   "source": [
    "data = pd.read_csv('Street_Tree_List.csv')"
   ]
  },
  {
   "cell_type": "code",
   "execution_count": 5,
   "id": "1a4b2bac",
   "metadata": {},
   "outputs": [
    {
     "data": {
      "text/html": [
       "<div>\n",
       "<style scoped>\n",
       "    .dataframe tbody tr th:only-of-type {\n",
       "        vertical-align: middle;\n",
       "    }\n",
       "\n",
       "    .dataframe tbody tr th {\n",
       "        vertical-align: top;\n",
       "    }\n",
       "\n",
       "    .dataframe thead th {\n",
       "        text-align: right;\n",
       "    }\n",
       "</style>\n",
       "<table border=\"1\" class=\"dataframe\">\n",
       "  <thead>\n",
       "    <tr style=\"text-align: right;\">\n",
       "      <th></th>\n",
       "      <th>TreeID</th>\n",
       "      <th>qLegalStatus</th>\n",
       "      <th>qSpecies</th>\n",
       "      <th>qAddress</th>\n",
       "      <th>SiteOrder</th>\n",
       "      <th>qSiteInfo</th>\n",
       "      <th>PlantType</th>\n",
       "      <th>qCaretaker</th>\n",
       "      <th>qCareAssistant</th>\n",
       "      <th>PlantDate</th>\n",
       "      <th>...</th>\n",
       "      <th>XCoord</th>\n",
       "      <th>YCoord</th>\n",
       "      <th>Latitude</th>\n",
       "      <th>Longitude</th>\n",
       "      <th>Location</th>\n",
       "      <th>Fire Prevention Districts</th>\n",
       "      <th>Police Districts</th>\n",
       "      <th>Supervisor Districts</th>\n",
       "      <th>Zip Codes</th>\n",
       "      <th>Neighborhoods (old)</th>\n",
       "    </tr>\n",
       "  </thead>\n",
       "  <tbody>\n",
       "    <tr>\n",
       "      <th>0</th>\n",
       "      <td>48142</td>\n",
       "      <td>Permitted Site</td>\n",
       "      <td>Tree(s) ::</td>\n",
       "      <td>NaN</td>\n",
       "      <td>252.0</td>\n",
       "      <td>Sidewalk: Curb side : Cutout</td>\n",
       "      <td>Tree</td>\n",
       "      <td>Private</td>\n",
       "      <td>NaN</td>\n",
       "      <td>07/17/2002 12:00:00 AM</td>\n",
       "      <td>...</td>\n",
       "      <td>NaN</td>\n",
       "      <td>NaN</td>\n",
       "      <td>NaN</td>\n",
       "      <td>NaN</td>\n",
       "      <td>NaN</td>\n",
       "      <td>NaN</td>\n",
       "      <td>NaN</td>\n",
       "      <td>NaN</td>\n",
       "      <td>NaN</td>\n",
       "      <td>NaN</td>\n",
       "    </tr>\n",
       "    <tr>\n",
       "      <th>1</th>\n",
       "      <td>19725</td>\n",
       "      <td>DPW Maintained</td>\n",
       "      <td>Pinus Spp :: Pine Spp</td>\n",
       "      <td>100 STAIRWAY14</td>\n",
       "      <td>3.0</td>\n",
       "      <td>Sidewalk: Curb side : Cutout</td>\n",
       "      <td>Tree</td>\n",
       "      <td>DPW</td>\n",
       "      <td>NaN</td>\n",
       "      <td>NaN</td>\n",
       "      <td>...</td>\n",
       "      <td>NaN</td>\n",
       "      <td>NaN</td>\n",
       "      <td>NaN</td>\n",
       "      <td>NaN</td>\n",
       "      <td>NaN</td>\n",
       "      <td>NaN</td>\n",
       "      <td>NaN</td>\n",
       "      <td>NaN</td>\n",
       "      <td>NaN</td>\n",
       "      <td>NaN</td>\n",
       "    </tr>\n",
       "    <tr>\n",
       "      <th>2</th>\n",
       "      <td>121399</td>\n",
       "      <td>DPW Maintained</td>\n",
       "      <td>Corymbia ficifolia :: Red Flowering Gum</td>\n",
       "      <td>349X Cargo Way</td>\n",
       "      <td>1.0</td>\n",
       "      <td>Sidewalk: Curb side : Cutout</td>\n",
       "      <td>Tree</td>\n",
       "      <td>DPW</td>\n",
       "      <td>NaN</td>\n",
       "      <td>NaN</td>\n",
       "      <td>...</td>\n",
       "      <td>NaN</td>\n",
       "      <td>NaN</td>\n",
       "      <td>NaN</td>\n",
       "      <td>NaN</td>\n",
       "      <td>NaN</td>\n",
       "      <td>NaN</td>\n",
       "      <td>NaN</td>\n",
       "      <td>NaN</td>\n",
       "      <td>NaN</td>\n",
       "      <td>NaN</td>\n",
       "    </tr>\n",
       "    <tr>\n",
       "      <th>3</th>\n",
       "      <td>46536</td>\n",
       "      <td>Permitted Site</td>\n",
       "      <td>Tree(s) ::</td>\n",
       "      <td>73 Summer St</td>\n",
       "      <td>2.0</td>\n",
       "      <td>Sidewalk: Curb side : Cutout</td>\n",
       "      <td>Tree</td>\n",
       "      <td>Private</td>\n",
       "      <td>NaN</td>\n",
       "      <td>04/01/2002 12:00:00 AM</td>\n",
       "      <td>...</td>\n",
       "      <td>NaN</td>\n",
       "      <td>NaN</td>\n",
       "      <td>NaN</td>\n",
       "      <td>NaN</td>\n",
       "      <td>NaN</td>\n",
       "      <td>NaN</td>\n",
       "      <td>NaN</td>\n",
       "      <td>NaN</td>\n",
       "      <td>NaN</td>\n",
       "      <td>NaN</td>\n",
       "    </tr>\n",
       "    <tr>\n",
       "      <th>4</th>\n",
       "      <td>251210</td>\n",
       "      <td>DPW Maintained</td>\n",
       "      <td>Eucalyptus polyanthemos :: Silver Dollar Eucal...</td>\n",
       "      <td>1170 Ingalls St</td>\n",
       "      <td>2.0</td>\n",
       "      <td>Sidewalk: Curb side : Cutout</td>\n",
       "      <td>Tree</td>\n",
       "      <td>DPW</td>\n",
       "      <td>NaN</td>\n",
       "      <td>11/02/1992 12:00:00 AM</td>\n",
       "      <td>...</td>\n",
       "      <td>NaN</td>\n",
       "      <td>NaN</td>\n",
       "      <td>NaN</td>\n",
       "      <td>NaN</td>\n",
       "      <td>NaN</td>\n",
       "      <td>NaN</td>\n",
       "      <td>NaN</td>\n",
       "      <td>NaN</td>\n",
       "      <td>NaN</td>\n",
       "      <td>NaN</td>\n",
       "    </tr>\n",
       "  </tbody>\n",
       "</table>\n",
       "<p>5 rows × 23 columns</p>\n",
       "</div>"
      ],
      "text/plain": [
       "   TreeID    qLegalStatus                                           qSpecies  \\\n",
       "0   48142  Permitted Site                                         Tree(s) ::   \n",
       "1   19725  DPW Maintained                              Pinus Spp :: Pine Spp   \n",
       "2  121399  DPW Maintained            Corymbia ficifolia :: Red Flowering Gum   \n",
       "3   46536  Permitted Site                                         Tree(s) ::   \n",
       "4  251210  DPW Maintained  Eucalyptus polyanthemos :: Silver Dollar Eucal...   \n",
       "\n",
       "          qAddress  SiteOrder                     qSiteInfo PlantType  \\\n",
       "0              NaN      252.0  Sidewalk: Curb side : Cutout      Tree   \n",
       "1   100 STAIRWAY14        3.0  Sidewalk: Curb side : Cutout      Tree   \n",
       "2   349X Cargo Way        1.0  Sidewalk: Curb side : Cutout      Tree   \n",
       "3     73 Summer St        2.0  Sidewalk: Curb side : Cutout      Tree   \n",
       "4  1170 Ingalls St        2.0  Sidewalk: Curb side : Cutout      Tree   \n",
       "\n",
       "  qCaretaker qCareAssistant               PlantDate  ...  XCoord YCoord  \\\n",
       "0    Private            NaN  07/17/2002 12:00:00 AM  ...     NaN    NaN   \n",
       "1        DPW            NaN                     NaN  ...     NaN    NaN   \n",
       "2        DPW            NaN                     NaN  ...     NaN    NaN   \n",
       "3    Private            NaN  04/01/2002 12:00:00 AM  ...     NaN    NaN   \n",
       "4        DPW            NaN  11/02/1992 12:00:00 AM  ...     NaN    NaN   \n",
       "\n",
       "  Latitude  Longitude  Location  Fire Prevention Districts  Police Districts  \\\n",
       "0      NaN        NaN       NaN                        NaN               NaN   \n",
       "1      NaN        NaN       NaN                        NaN               NaN   \n",
       "2      NaN        NaN       NaN                        NaN               NaN   \n",
       "3      NaN        NaN       NaN                        NaN               NaN   \n",
       "4      NaN        NaN       NaN                        NaN               NaN   \n",
       "\n",
       "  Supervisor Districts  Zip Codes  Neighborhoods (old)  \n",
       "0                  NaN        NaN                  NaN  \n",
       "1                  NaN        NaN                  NaN  \n",
       "2                  NaN        NaN                  NaN  \n",
       "3                  NaN        NaN                  NaN  \n",
       "4                  NaN        NaN                  NaN  \n",
       "\n",
       "[5 rows x 23 columns]"
      ]
     },
     "execution_count": 5,
     "metadata": {},
     "output_type": "execute_result"
    }
   ],
   "source": [
    "data.head()"
   ]
  },
  {
   "cell_type": "code",
   "execution_count": 6,
   "id": "724a9af5",
   "metadata": {},
   "outputs": [
    {
     "name": "stdout",
     "output_type": "stream",
     "text": [
      "Collecting package metadata (current_repodata.json): done\n",
      "Solving environment: done\n",
      "\n",
      "# All requested packages already installed.\n",
      "\n",
      "Retrieving notices: ...working... done\n",
      "\n",
      "Note: you may need to restart the kernel to use updated packages.\n"
     ]
    }
   ],
   "source": [
    "conda install numpy"
   ]
  },
  {
   "cell_type": "code",
   "execution_count": 7,
   "id": "43ca972d-8dda-4069-938b-c09d637c61af",
   "metadata": {},
   "outputs": [],
   "source": [
    "import numpy as np\n",
    "import pandas as pd"
   ]
  },
  {
   "cell_type": "code",
   "execution_count": 8,
   "id": "868362c1-a379-4df0-ae66-cd0ecd6c967b",
   "metadata": {},
   "outputs": [],
   "source": [
    "data = pd.read_csv('Street_Tree_List.csv')"
   ]
  },
  {
   "cell_type": "code",
   "execution_count": 9,
   "id": "5b7c3540-b6f8-43a2-9c8b-f6b993c599b7",
   "metadata": {},
   "outputs": [
    {
     "data": {
      "text/plain": [
       "TreeID                       196458\n",
       "qLegalStatus                     12\n",
       "qSpecies                        577\n",
       "qAddress                      87284\n",
       "SiteOrder                       312\n",
       "qSiteInfo                        33\n",
       "PlantType                         3\n",
       "qCaretaker                       24\n",
       "qCareAssistant                   18\n",
       "PlantDate                      9404\n",
       "DBH                             109\n",
       "PlotSize                        603\n",
       "PermitNotes                   35584\n",
       "XCoord                       162138\n",
       "YCoord                       162596\n",
       "Latitude                     164202\n",
       "Longitude                    164205\n",
       "Location                     164205\n",
       "Fire Prevention Districts        15\n",
       "Police Districts                 10\n",
       "Supervisor Districts             11\n",
       "Zip Codes                        29\n",
       "Neighborhoods (old)              41\n",
       "dtype: int64"
      ]
     },
     "execution_count": 9,
     "metadata": {},
     "output_type": "execute_result"
    }
   ],
   "source": [
    "data.nunique()"
   ]
  },
  {
   "cell_type": "markdown",
   "id": "1f9537f3-b1d2-4b98-b16a-0bc7e2845a63",
   "metadata": {},
   "source": [
    "# Total Zip unique Zip codes values: 29"
   ]
  },
  {
   "cell_type": "code",
   "execution_count": 10,
   "id": "5dd6f1ba-9746-4d1f-8542-ec93619dc0be",
   "metadata": {},
   "outputs": [
    {
     "name": "stdout",
     "output_type": "stream",
     "text": [
      "888764.0\n"
     ]
    }
   ],
   "source": [
    "print(data['SiteOrder'].sum())"
   ]
  },
  {
   "cell_type": "markdown",
   "id": "03c870a3-5f08-4847-b35d-be45716349b9",
   "metadata": {},
   "source": [
    "# Total number of trees: 888,764"
   ]
  },
  {
   "cell_type": "code",
   "execution_count": 11,
   "id": "95ca0e62-9e99-4b05-b211-670ede239336",
   "metadata": {},
   "outputs": [
    {
     "data": {
      "text/plain": [
       "TreeID                         int64\n",
       "qLegalStatus                  object\n",
       "qSpecies                      object\n",
       "qAddress                      object\n",
       "SiteOrder                    float64\n",
       "qSiteInfo                     object\n",
       "PlantType                     object\n",
       "qCaretaker                    object\n",
       "qCareAssistant                object\n",
       "PlantDate                     object\n",
       "DBH                          float64\n",
       "PlotSize                      object\n",
       "PermitNotes                   object\n",
       "XCoord                       float64\n",
       "YCoord                       float64\n",
       "Latitude                     float64\n",
       "Longitude                    float64\n",
       "Location                      object\n",
       "Fire Prevention Districts    float64\n",
       "Police Districts             float64\n",
       "Supervisor Districts         float64\n",
       "Zip Codes                    float64\n",
       "Neighborhoods (old)          float64\n",
       "dtype: object"
      ]
     },
     "execution_count": 11,
     "metadata": {},
     "output_type": "execute_result"
    }
   ],
   "source": [
    "data.dtypes"
   ]
  },
  {
   "cell_type": "markdown",
   "id": "e10ab669-ca91-41fd-93dc-6d2354d6c800",
   "metadata": {},
   "source": [
    "# Data type formats used: int64, object, & float64"
   ]
  },
  {
   "cell_type": "code",
   "execution_count": 12,
   "id": "a042ec27-d288-4756-8b49-8e12cf89b6d5",
   "metadata": {},
   "outputs": [
    {
     "name": "stdout",
     "output_type": "stream",
     "text": [
      "['Sidewalk: Curb side : Cutout' 'Side Yard : Yard' 'Back Yard : Yard'\n",
      " 'Sidewalk: Property side : Yard' 'Median : Yard'\n",
      " 'Unaccepted Street : Yard' 'Front Yard : Yard'\n",
      " 'Sidewalk: Curb side : Yard' 'Sidewalk: Property side : Cutout'\n",
      " 'Unaccepted Street : Cutout' 'Median : Cutout' 'Side Yard : Cutout'\n",
      " 'unknown : Yard' 'Back Yard : Cutout' 'Sidewalk: Curb side : Pot'\n",
      " 'Sidewalk: Curb side :' 'Median :' ':' 'Front Yard : Pot'\n",
      " 'Front Yard : Cutout' 'Unaccepted Street : Pot' ': Yard'\n",
      " 'unknown : Cutout' 'Side Yard : Pot' 'Sidewalk: Property side : Pot'\n",
      " ': Cutout' 'Front Yard :' 'Sidewalk: Property side :'\n",
      " 'Hanging basket : Cutout' 'Sidewalk: Curb side : Hanging Pot'\n",
      " 'Hanging basket : Yard' 'unknown : Pot' 'Median : Hanging Pot']\n"
     ]
    }
   ],
   "source": [
    "df2 = data['qSiteInfo'].unique()\n",
    "print(df2)"
   ]
  },
  {
   "cell_type": "markdown",
   "id": "27c74641-b40b-4f61-bb2c-e3e15692d1d2",
   "metadata": {},
   "source": [
    "# Unique values for Site Info column above."
   ]
  },
  {
   "cell_type": "code",
   "execution_count": 14,
   "id": "a29f548a-3a03-47eb-aead-c605083e892a",
   "metadata": {},
   "outputs": [
    {
     "data": {
      "text/plain": [
       "0    Private\n",
       "Name: qCaretaker, dtype: object"
      ]
     },
     "execution_count": 14,
     "metadata": {},
     "output_type": "execute_result"
    }
   ],
   "source": [
    "data['qCaretaker'].mode()"
   ]
  },
  {
   "cell_type": "code",
   "execution_count": 15,
   "id": "9ea25249-0497-43c4-b9f9-3dbeeb86150f",
   "metadata": {},
   "outputs": [
    {
     "data": {
      "text/plain": [
       "164509"
      ]
     },
     "execution_count": 15,
     "metadata": {},
     "output_type": "execute_result"
    }
   ],
   "source": [
    "data['qCaretaker'].value_counts()['Private']"
   ]
  },
  {
   "cell_type": "code",
   "execution_count": 16,
   "id": "1653a7f2-633e-40c2-9c4d-cfba81cc5ace",
   "metadata": {},
   "outputs": [
    {
     "data": {
      "text/plain": [
       "28199"
      ]
     },
     "execution_count": 16,
     "metadata": {},
     "output_type": "execute_result"
    }
   ],
   "source": [
    "data['qCaretaker'].value_counts()['DPW']"
   ]
  },
  {
   "cell_type": "markdown",
   "id": "ab0833d9-9ee3-488c-8b60-f179cdaeea34",
   "metadata": {},
   "source": [
    "# Private is more popular for caretaker"
   ]
  },
  {
   "cell_type": "code",
   "execution_count": 17,
   "id": "770a78a0-098b-4c3c-9b98-76326c28d73b",
   "metadata": {},
   "outputs": [
    {
     "name": "stdout",
     "output_type": "stream",
     "text": [
      "        TreeID  qLegalStatus  qSpecies  qAddress  SiteOrder  qSiteInfo  \\\n",
      "0        False         False     False      True      False      False   \n",
      "1        False         False     False     False      False      False   \n",
      "2        False         False     False     False      False      False   \n",
      "3        False         False     False     False      False      False   \n",
      "4        False         False     False     False      False      False   \n",
      "...        ...           ...       ...       ...        ...        ...   \n",
      "196453   False         False     False     False      False      False   \n",
      "196454   False         False     False     False      False      False   \n",
      "196455   False         False     False     False      False      False   \n",
      "196456   False         False     False     False      False      False   \n",
      "196457   False         False     False     False      False      False   \n",
      "\n",
      "        PlantType  qCaretaker  qCareAssistant  PlantDate  ...  XCoord  YCoord  \\\n",
      "0           False       False            True      False  ...    True    True   \n",
      "1           False       False            True       True  ...    True    True   \n",
      "2           False       False            True       True  ...    True    True   \n",
      "3           False       False            True      False  ...    True    True   \n",
      "4           False       False            True      False  ...    True    True   \n",
      "...           ...         ...             ...        ...  ...     ...     ...   \n",
      "196453      False       False            True      False  ...   False   False   \n",
      "196454      False       False            True      False  ...   False   False   \n",
      "196455      False       False           False      False  ...   False   False   \n",
      "196456      False       False            True       True  ...   False   False   \n",
      "196457      False       False            True      False  ...   False   False   \n",
      "\n",
      "        Latitude  Longitude  Location  Fire Prevention Districts  \\\n",
      "0           True       True      True                       True   \n",
      "1           True       True      True                       True   \n",
      "2           True       True      True                       True   \n",
      "3           True       True      True                       True   \n",
      "4           True       True      True                       True   \n",
      "...          ...        ...       ...                        ...   \n",
      "196453     False      False     False                      False   \n",
      "196454     False      False     False                      False   \n",
      "196455     False      False     False                      False   \n",
      "196456     False      False     False                      False   \n",
      "196457     False      False     False                      False   \n",
      "\n",
      "        Police Districts  Supervisor Districts  Zip Codes  Neighborhoods (old)  \n",
      "0                   True                  True       True                 True  \n",
      "1                   True                  True       True                 True  \n",
      "2                   True                  True       True                 True  \n",
      "3                   True                  True       True                 True  \n",
      "4                   True                  True       True                 True  \n",
      "...                  ...                   ...        ...                  ...  \n",
      "196453             False                 False      False                False  \n",
      "196454             False                 False      False                False  \n",
      "196455             False                 False      False                False  \n",
      "196456             False                 False      False                False  \n",
      "196457             False                 False      False                False  \n",
      "\n",
      "[196458 rows x 23 columns]\n"
     ]
    }
   ],
   "source": [
    "print(data.isna())"
   ]
  },
  {
   "cell_type": "markdown",
   "id": "7d6cac23-d171-4b51-88cc-60018369623c",
   "metadata": {},
   "source": [
    "# Missing values above"
   ]
  },
  {
   "cell_type": "code",
   "execution_count": 20,
   "id": "1fee5d53-af58-4b35-a8d3-d4d1aa53d14c",
   "metadata": {},
   "outputs": [
    {
     "name": "stdout",
     "output_type": "stream",
     "text": [
      "Collecting package metadata (current_repodata.json): done\n",
      "Solving environment: done\n",
      "\n",
      "## Package Plan ##\n",
      "\n",
      "  environment location: /Users/kimbaqueen/opt/anaconda3/envs/Jupyter_trees\n",
      "\n",
      "  added / updated specs:\n",
      "    - matplotlib\n",
      "\n",
      "\n",
      "The following packages will be downloaded:\n",
      "\n",
      "    package                    |            build\n",
      "    ---------------------------|-----------------\n",
      "    brotli-1.0.9               |       hca72f7f_7          19 KB\n",
      "    brotli-bin-1.0.9           |       hca72f7f_7          17 KB\n",
      "    kiwisolver-1.4.2           |   py39he9d5cce_0          56 KB\n",
      "    libbrotlicommon-1.0.9      |       hca72f7f_7          69 KB\n",
      "    libbrotlidec-1.0.9         |       hca72f7f_7          31 KB\n",
      "    libbrotlienc-1.0.9         |       hca72f7f_7         293 KB\n",
      "    libtiff-4.4.0              |       h2ef1027_0         441 KB\n",
      "    matplotlib-3.5.2           |   py39hecd8cb5_0           7 KB\n",
      "    matplotlib-base-3.5.2      |   py39hfb0c5b7_0         5.7 MB\n",
      "    pillow-9.2.0               |   py39hde71d04_1         624 KB\n",
      "    zstd-1.5.2                 |       hcb37349_0         473 KB\n",
      "    ------------------------------------------------------------\n",
      "                                           Total:         7.7 MB\n",
      "\n",
      "The following NEW packages will be INSTALLED:\n",
      "\n",
      "  brotli             pkgs/main/osx-64::brotli-1.0.9-hca72f7f_7\n",
      "  brotli-bin         pkgs/main/osx-64::brotli-bin-1.0.9-hca72f7f_7\n",
      "  cycler             pkgs/main/noarch::cycler-0.11.0-pyhd3eb1b0_0\n",
      "  fonttools          pkgs/main/noarch::fonttools-4.25.0-pyhd3eb1b0_0\n",
      "  freetype           pkgs/main/osx-64::freetype-2.11.0-hd8bbffd_0\n",
      "  giflib             pkgs/main/osx-64::giflib-5.2.1-haf1e3a3_0\n",
      "  jpeg               pkgs/main/osx-64::jpeg-9e-hca72f7f_0\n",
      "  kiwisolver         pkgs/main/osx-64::kiwisolver-1.4.2-py39he9d5cce_0\n",
      "  lcms2              pkgs/main/osx-64::lcms2-2.12-hf1fd2bf_0\n",
      "  lerc               pkgs/main/osx-64::lerc-3.0-he9d5cce_0\n",
      "  libbrotlicommon    pkgs/main/osx-64::libbrotlicommon-1.0.9-hca72f7f_7\n",
      "  libbrotlidec       pkgs/main/osx-64::libbrotlidec-1.0.9-hca72f7f_7\n",
      "  libbrotlienc       pkgs/main/osx-64::libbrotlienc-1.0.9-hca72f7f_7\n",
      "  libdeflate         pkgs/main/osx-64::libdeflate-1.8-h9ed2024_5\n",
      "  libpng             pkgs/main/osx-64::libpng-1.6.37-ha441bb4_0\n",
      "  libtiff            pkgs/main/osx-64::libtiff-4.4.0-h2ef1027_0\n",
      "  libwebp            pkgs/main/osx-64::libwebp-1.2.2-h56c3ce4_0\n",
      "  libwebp-base       pkgs/main/osx-64::libwebp-base-1.2.2-hca72f7f_0\n",
      "  lz4-c              pkgs/main/osx-64::lz4-c-1.9.3-h23ab428_1\n",
      "  matplotlib         pkgs/main/osx-64::matplotlib-3.5.2-py39hecd8cb5_0\n",
      "  matplotlib-base    pkgs/main/osx-64::matplotlib-base-3.5.2-py39hfb0c5b7_0\n",
      "  munkres            pkgs/main/noarch::munkres-1.1.4-py_0\n",
      "  pillow             pkgs/main/osx-64::pillow-9.2.0-py39hde71d04_1\n",
      "  zstd               pkgs/main/osx-64::zstd-1.5.2-hcb37349_0\n",
      "\n",
      "\n",
      "\n",
      "Downloading and Extracting Packages\n",
      "libbrotlienc-1.0.9   | 293 KB    | ##################################### | 100% \n",
      "pillow-9.2.0         | 624 KB    | ##################################### | 100% \n",
      "libtiff-4.4.0        | 441 KB    | ##################################### | 100% \n",
      "matplotlib-base-3.5. | 5.7 MB    | ##################################### | 100% \n",
      "matplotlib-3.5.2     | 7 KB      | ##################################### | 100% \n",
      "brotli-bin-1.0.9     | 17 KB     | ##################################### | 100% \n",
      "libbrotlicommon-1.0. | 69 KB     | ##################################### | 100% \n",
      "zstd-1.5.2           | 473 KB    | ##################################### | 100% \n",
      "kiwisolver-1.4.2     | 56 KB     | ##################################### | 100% \n",
      "brotli-1.0.9         | 19 KB     | ##################################### | 100% \n",
      "libbrotlidec-1.0.9   | 31 KB     | ##################################### | 100% \n",
      "Preparing transaction: done\n",
      "Verifying transaction: done\n",
      "Executing transaction: done\n",
      "Retrieving notices: ...working... done\n",
      "\n",
      "Note: you may need to restart the kernel to use updated packages.\n"
     ]
    }
   ],
   "source": [
    "conda install matplotlib"
   ]
  },
  {
   "cell_type": "code",
   "execution_count": 27,
   "id": "1e37057c-b925-46fa-8a21-cfe8926f278d",
   "metadata": {},
   "outputs": [],
   "source": [
    "import matplotlib.pyplot as plt\n",
    "%matplotlib inline"
   ]
  },
  {
   "cell_type": "code",
   "execution_count": 30,
   "id": "16fc05d8-dec6-4d3c-91e9-c1fc755ffd8b",
   "metadata": {},
   "outputs": [
    {
     "data": {
      "image/png": "[encoded data removed]",
      "text/plain": [
       "<Figure size 432x288 with 1 Axes>"
      ]
     },
     "metadata": {
      "needs_background": "light"
     },
     "output_type": "display_data"
    }
   ],
   "source": [
    "data.plot(x=\"SiteOrder\", y=[\"Zip Codes\"])\n",
    "plt.show()"
   ]
  },
  {
   "cell_type": "code",
   "execution_count": 34,
   "id": "e74f6ea4-9cd7-46f5-9bd6-aedd40aa9b38",
   "metadata": {},
   "outputs": [
    {
     "data": {
      "text/plain": [
       "Zip Codes\n",
       "62.0           4.0\n",
       "28588.0       13.0\n",
       "28590.0       14.0\n",
       "61.0          80.0\n",
       "28854.0     1190.0\n",
       "28857.0     3937.0\n",
       "310.0      11717.0\n",
       "28860.0    13296.0\n",
       "28855.0    13424.0\n",
       "57.0       15277.0\n",
       "55.0       15670.0\n",
       "308.0      19407.0\n",
       "309.0      20001.0\n",
       "28852.0    20880.0\n",
       "29492.0    20962.0\n",
       "54.0       24052.0\n",
       "28858.0    24225.0\n",
       "59.0       24714.0\n",
       "29490.0    29723.0\n",
       "28862.0    30321.0\n",
       "28853.0    33426.0\n",
       "63.0       35959.0\n",
       "28861.0    41130.0\n",
       "64.0       47112.0\n",
       "28856.0    47497.0\n",
       "28859.0    58538.0\n",
       "56.0       60432.0\n",
       "29491.0    69016.0\n",
       "58.0       82474.0\n",
       "Name: SiteOrder, dtype: float64"
      ]
     },
     "execution_count": 34,
     "metadata": {},
     "output_type": "execute_result"
    }
   ],
   "source": [
    "tree_totals = data.groupby(\"Zip Codes\")[\"SiteOrder\"].sum().sort_values()\n",
    "tree_totals"
   ]
  },
  {
   "cell_type": "code",
   "execution_count": 35,
   "id": "ce875ce2-29dc-4c4d-ba77-423acd40ac4e",
   "metadata": {},
   "outputs": [
    {
     "data": {
      "text/plain": [
       "<AxesSubplot:ylabel='Frequency'>"
      ]
     },
     "execution_count": 35,
     "metadata": {},
     "output_type": "execute_result"
    },
    {
     "data": {
      "image/png": "[encoded data removed]",
      "text/plain": [
       "<Figure size 432x288 with 1 Axes>"
      ]
     },
     "metadata": {
      "needs_background": "light"
     },
     "output_type": "display_data"
    }
   ],
   "source": [
    "tree_totals.plot(kind=\"hist\", fontsize=4)"
   ]
  },
  {
   "cell_type": "markdown",
   "id": "a79558c8-0c6a-4a7a-8ad0-408bd42f185d",
   "metadata": {},
   "source": [
    "# trees by zipcode above"
   ]
  },
  {
   "cell_type": "code",
   "execution_count": 37,
   "id": "f1074b08-ecf5-42c0-8ea1-322139d42d18",
   "metadata": {},
   "outputs": [
    {
     "data": {
      "text/plain": [
       "qCaretaker\n",
       "CAN                             1.0\n",
       "Cleary Bros. Landscape          2.0\n",
       "Asian Arts Commission          17.0\n",
       "Mission Verde                  17.0\n",
       "City College                   52.0\n",
       "War Memorial                   84.0\n",
       "Public Library                 95.0\n",
       "Housing Authority              95.0\n",
       "Arts Commission               106.0\n",
       "Mayor Office of Housing       131.0\n",
       "Office of Mayor               159.0\n",
       "Police Dept                   264.0\n",
       "Fire Dept                     338.0\n",
       "Health Dept                   369.0\n",
       "MTA                           500.0\n",
       "Dept of Real Estate           660.0\n",
       "Purchasing Dept               868.0\n",
       "DPW for City Agency          1253.0\n",
       "PUC                          3152.0\n",
       "Rec/Park                     5438.0\n",
       "SFUSD                        7000.0\n",
       "Port                        13036.0\n",
       "DPW                        149345.0\n",
       "Private                    705782.0\n",
       "Name: SiteOrder, dtype: float64"
      ]
     },
     "execution_count": 37,
     "metadata": {},
     "output_type": "execute_result"
    }
   ],
   "source": [
    "caretaker_totals = data.groupby(\"qCaretaker\")[\"SiteOrder\"].sum().sort_values()\n",
    "caretaker_totals"
   ]
  },
  {
   "cell_type": "code",
   "execution_count": 38,
   "id": "3d010c1e-88ff-4c32-b608-6f91e37d4923",
   "metadata": {},
   "outputs": [
    {
     "data": {
      "text/plain": [
       "<AxesSubplot:ylabel='Frequency'>"
      ]
     },
     "execution_count": 38,
     "metadata": {},
     "output_type": "execute_result"
    },
    {
     "data": {
      "image/png": "[encoded data removed]",
      "text/plain": [
       "<Figure size 432x288 with 1 Axes>"
      ]
     },
     "metadata": {
      "needs_background": "light"
     },
     "output_type": "display_data"
    }
   ],
   "source": [
    "caretaker_totals.plot(kind=\"hist\", fontsize=4)"
   ]
  },
  {
   "cell_type": "code",
   "execution_count": 40,
   "id": "6a373c0b-a057-4970-ad2b-5a41bce5e1f9",
   "metadata": {},
   "outputs": [
    {
     "ename": "KeyError",
     "evalue": "'DPW'",
     "output_type": "error",
     "traceback": [
      "\u001b[0;31m---------------------------------------------------------------------------\u001b[0m",
      "\u001b[0;31mKeyError\u001b[0m                                  Traceback (most recent call last)",
      "File \u001b[0;32m~/opt/anaconda3/envs/Jupyter_trees/lib/python3.9/site-packages/pandas/core/indexes/base.py:3621\u001b[0m, in \u001b[0;36mIndex.get_loc\u001b[0;34m(self, key, method, tolerance)\u001b[0m\n\u001b[1;32m   3620\u001b[0m \u001b[38;5;28;01mtry\u001b[39;00m:\n\u001b[0;32m-> 3621\u001b[0m     \u001b[38;5;28;01mreturn\u001b[39;00m \u001b[38;5;28;43mself\u001b[39;49m\u001b[38;5;241;43m.\u001b[39;49m\u001b[43m_engine\u001b[49m\u001b[38;5;241;43m.\u001b[39;49m\u001b[43mget_loc\u001b[49m\u001b[43m(\u001b[49m\u001b[43mcasted_key\u001b[49m\u001b[43m)\u001b[49m\n\u001b[1;32m   3622\u001b[0m \u001b[38;5;28;01mexcept\u001b[39;00m \u001b[38;5;167;01mKeyError\u001b[39;00m \u001b[38;5;28;01mas\u001b[39;00m err:\n",
      "File \u001b[0;32m~/opt/anaconda3/envs/Jupyter_trees/lib/python3.9/site-packages/pandas/_libs/index.pyx:136\u001b[0m, in \u001b[0;36mpandas._libs.index.IndexEngine.get_loc\u001b[0;34m()\u001b[0m\n",
      "File \u001b[0;32m~/opt/anaconda3/envs/Jupyter_trees/lib/python3.9/site-packages/pandas/_libs/index.pyx:163\u001b[0m, in \u001b[0;36mpandas._libs.index.IndexEngine.get_loc\u001b[0;34m()\u001b[0m\n",
      "File \u001b[0;32mpandas/_libs/hashtable_class_helper.pxi:5198\u001b[0m, in \u001b[0;36mpandas._libs.hashtable.PyObjectHashTable.get_item\u001b[0;34m()\u001b[0m\n",
      "File \u001b[0;32mpandas/_libs/hashtable_class_helper.pxi:5206\u001b[0m, in \u001b[0;36mpandas._libs.hashtable.PyObjectHashTable.get_item\u001b[0;34m()\u001b[0m\n",
      "\u001b[0;31mKeyError\u001b[0m: 'DPW'",
      "\nThe above exception was the direct cause of the following exception:\n",
      "\u001b[0;31mKeyError\u001b[0m                                  Traceback (most recent call last)",
      "Input \u001b[0;32mIn [40]\u001b[0m, in \u001b[0;36m<cell line: 1>\u001b[0;34m()\u001b[0m\n\u001b[0;32m----> 1\u001b[0m \u001b[43mdata\u001b[49m\u001b[43m[\u001b[49m\u001b[43mdata\u001b[49m\u001b[43m[\u001b[49m\u001b[38;5;124;43m\"\u001b[39;49m\u001b[38;5;124;43mqCaretaker\u001b[39;49m\u001b[38;5;124;43m\"\u001b[39;49m\u001b[43m]\u001b[49m\u001b[43m \u001b[49m\u001b[38;5;241;43m==\u001b[39;49m\u001b[43m \u001b[49m\u001b[38;5;124;43m\"\u001b[39;49m\u001b[38;5;124;43mPrivate\u001b[39;49m\u001b[38;5;124;43m\"\u001b[39;49m\u001b[43m]\u001b[49m\u001b[43m[\u001b[49m\u001b[38;5;124;43m\"\u001b[39;49m\u001b[38;5;124;43mDPW\u001b[39;49m\u001b[38;5;124;43m\"\u001b[39;49m\u001b[43m]\u001b[49m\u001b[38;5;241m.\u001b[39mplot(kind\u001b[38;5;241m=\u001b[39m\u001b[38;5;124m\"\u001b[39m\u001b[38;5;124mhist\u001b[39m\u001b[38;5;124m\"\u001b[39m)\n",
      "File \u001b[0;32m~/opt/anaconda3/envs/Jupyter_trees/lib/python3.9/site-packages/pandas/core/frame.py:3505\u001b[0m, in \u001b[0;36mDataFrame.__getitem__\u001b[0;34m(self, key)\u001b[0m\n\u001b[1;32m   3503\u001b[0m \u001b[38;5;28;01mif\u001b[39;00m \u001b[38;5;28mself\u001b[39m\u001b[38;5;241m.\u001b[39mcolumns\u001b[38;5;241m.\u001b[39mnlevels \u001b[38;5;241m>\u001b[39m \u001b[38;5;241m1\u001b[39m:\n\u001b[1;32m   3504\u001b[0m     \u001b[38;5;28;01mreturn\u001b[39;00m \u001b[38;5;28mself\u001b[39m\u001b[38;5;241m.\u001b[39m_getitem_multilevel(key)\n\u001b[0;32m-> 3505\u001b[0m indexer \u001b[38;5;241m=\u001b[39m \u001b[38;5;28;43mself\u001b[39;49m\u001b[38;5;241;43m.\u001b[39;49m\u001b[43mcolumns\u001b[49m\u001b[38;5;241;43m.\u001b[39;49m\u001b[43mget_loc\u001b[49m\u001b[43m(\u001b[49m\u001b[43mkey\u001b[49m\u001b[43m)\u001b[49m\n\u001b[1;32m   3506\u001b[0m \u001b[38;5;28;01mif\u001b[39;00m is_integer(indexer):\n\u001b[1;32m   3507\u001b[0m     indexer \u001b[38;5;241m=\u001b[39m [indexer]\n",
      "File \u001b[0;32m~/opt/anaconda3/envs/Jupyter_trees/lib/python3.9/site-packages/pandas/core/indexes/base.py:3623\u001b[0m, in \u001b[0;36mIndex.get_loc\u001b[0;34m(self, key, method, tolerance)\u001b[0m\n\u001b[1;32m   3621\u001b[0m     \u001b[38;5;28;01mreturn\u001b[39;00m \u001b[38;5;28mself\u001b[39m\u001b[38;5;241m.\u001b[39m_engine\u001b[38;5;241m.\u001b[39mget_loc(casted_key)\n\u001b[1;32m   3622\u001b[0m \u001b[38;5;28;01mexcept\u001b[39;00m \u001b[38;5;167;01mKeyError\u001b[39;00m \u001b[38;5;28;01mas\u001b[39;00m err:\n\u001b[0;32m-> 3623\u001b[0m     \u001b[38;5;28;01mraise\u001b[39;00m \u001b[38;5;167;01mKeyError\u001b[39;00m(key) \u001b[38;5;28;01mfrom\u001b[39;00m \u001b[38;5;21;01merr\u001b[39;00m\n\u001b[1;32m   3624\u001b[0m \u001b[38;5;28;01mexcept\u001b[39;00m \u001b[38;5;167;01mTypeError\u001b[39;00m:\n\u001b[1;32m   3625\u001b[0m     \u001b[38;5;66;03m# If we have a listlike key, _check_indexing_error will raise\u001b[39;00m\n\u001b[1;32m   3626\u001b[0m     \u001b[38;5;66;03m#  InvalidIndexError. Otherwise we fall through and re-raise\u001b[39;00m\n\u001b[1;32m   3627\u001b[0m     \u001b[38;5;66;03m#  the TypeError.\u001b[39;00m\n\u001b[1;32m   3628\u001b[0m     \u001b[38;5;28mself\u001b[39m\u001b[38;5;241m.\u001b[39m_check_indexing_error(key)\n",
      "\u001b[0;31mKeyError\u001b[0m: 'DPW'"
     ]
    }
   ],
   "source": [
    "data[data[\"qCaretaker\"] == \"Private\"][\"DPW\"].plot(kind=\"hist\")"
   ]
  },
  {
   "cell_type": "code",
   "execution_count": null,
   "id": "576c8629-9745-4a9f-9287-4be1c82f58e4",
   "metadata": {},
   "outputs": [],
   "source": []
  }
 ],
 "metadata": {
  "kernelspec": {
   "display_name": "Python 3 (ipykernel)",
   "language": "python",
   "name": "python3"
  },
  "language_info": {
   "codemirror_mode": {
    "name": "ipython",
    "version": 3
   },
   "file_extension": ".py",
   "mimetype": "text/x-python",
   "name": "python",
   "nbconvert_exporter": "python",
   "pygments_lexer": "ipython3",
   "version": "3.9.12"
  }
 },
 "nbformat": 4,
 "nbformat_minor": 5
}
